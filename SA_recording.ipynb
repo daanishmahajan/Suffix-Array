{
 "cells": [
  {
   "cell_type": "code",
   "execution_count": null,
   "metadata": {},
   "outputs": [],
   "source": [
    "import time\n",
    "import random\n",
    "import math"
   ]
  },
  {
   "cell_type": "code",
   "execution_count": null,
   "metadata": {},
   "outputs": [],
   "source": [
    "# Generating input string\n",
    "\n",
    "# T = 'mississippi$'\n",
    "# n = len(T)\n",
    "# print(n)\n",
    "\n",
    "T = ''\n",
    "dict = {}\n",
    "dict[0] = 'a'\n",
    "dict[1] = 'c'\n",
    "dict[2] = 't'\n",
    "dict[3] = 'g'\n",
    "maxl = 200000\n",
    "for i in range(maxl):\n",
    "    T += dict[random.randint(0, 3)]\n",
    "T += '$'\n",
    "n = len(T)\n",
    "\n",
    "print(n)"
   ]
  },
  {
   "cell_type": "code",
   "execution_count": null,
   "metadata": {},
   "outputs": [],
   "source": [
    "# Naive Algorithm\n",
    "# Sorting all the suffixes using inbuilt python function\n",
    "\n",
    "start1 = time.time()\n",
    "lsuffix = []\n",
    "for i in range(n):\n",
    "    lsuffix.append((i, T[i:]))\n",
    "lsuffix.sort(key = lambda x : x[1])\n",
    "\n",
    "sa1 = []\n",
    "for i in range(n):\n",
    "    sa1.append(lsuffix[i][0])\n",
    "\n",
    "end1 = time.time()\n",
    "\n",
    "print(f\"Time for Naive Sorting Algorithm = {end1 - start1} seconds\")"
   ]
  },
  {
   "cell_type": "code",
   "execution_count": null,
   "metadata": {},
   "outputs": [],
   "source": [
    "# Clearing the list since it consumes O(n^2) space\n",
    "\n",
    "lsuffix.clear()"
   ]
  },
  {
   "cell_type": "code",
   "execution_count": null,
   "metadata": {},
   "outputs": [],
   "source": [
    "# Prefix Doubling Algorithm\n",
    "\n",
    "start2 = time.time()\n",
    "data = []\n",
    "lst1 = []\n",
    "lst2 = []\n",
    "data.append(lst1)\n",
    "data.append(lst2)\n",
    "\n",
    "logn = math.ceil(math.log(n, 2))\n",
    "order = [0] * n # corresponds to inverse suffix array\n",
    "\n",
    "it = 0\n",
    "\n",
    "def suffixsort(data):\n",
    "    global order\n",
    "    data.sort(key = lambda x : (x[1][0], x[1][1]))\n",
    "    pr = 0 # var to upd the order\n",
    "    key = (-1, -1)\n",
    "    for j in range(n):\n",
    "        if data[j][1] != key:\n",
    "            pr = pr + 1\n",
    "            key = data[j][1]\n",
    "        order[data[j][0]] = pr\n",
    "\n",
    "for i in range(n):\n",
    "    data[it].append((i, (int(ord(T[i]) - ord('a')), 0)))\n",
    "\n",
    "suffixsort(data[it])\n",
    "\n",
    "for i in range(logn):\n",
    "    it = 1 - it\n",
    "    data[it].clear()\n",
    "    for j in range(n):\n",
    "        data[it].append((j, (order[j], order[j + (1 << i)] if (j + (1 << i)) < n else 0)))\n",
    "    suffixsort(data[it])\n",
    "\n",
    "sa2 = [0] * n\n",
    "\n",
    "for i in range(n):\n",
    "    sa2[order[i] - 1] = i\n",
    "\n",
    "end2 = time.time()\n",
    "\n",
    "assert sa1 == sa2\n",
    "\n",
    "print(f\"Time for Prefix Doubling Algorithm = {end2 - start2} seconds\")"
   ]
  }
 ],
 "metadata": {
  "kernelspec": {
   "display_name": "Python 3",
   "language": "python",
   "name": "python3"
  },
  "language_info": {
   "codemirror_mode": {
    "name": "ipython",
    "version": 3
   },
   "file_extension": ".py",
   "mimetype": "text/x-python",
   "name": "python",
   "nbconvert_exporter": "python",
   "pygments_lexer": "ipython3",
   "version": "3.9.6"
  }
 },
 "nbformat": 4,
 "nbformat_minor": 2
}
